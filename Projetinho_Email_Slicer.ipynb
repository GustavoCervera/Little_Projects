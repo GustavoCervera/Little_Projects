{
 "cells": [
  {
   "cell_type": "code",
   "execution_count": 3,
   "metadata": {},
   "outputs": [
    {
     "name": "stdout",
     "output_type": "stream",
     "text": [
      "Bem-Vindo ao Slicer de emails!!!\n",
      "Por favor, digite o email a ser dividido: maria.jorge.silva@gmail.com\n",
      "\n",
      "\n",
      "O nome vinculado ao email eh: \t\tmaria.jorge.silva\n",
      "O dominio vinculado ao email eh: \tgmail.com\n"
     ]
    }
   ],
   "source": [
    "#=================================================\n",
    "#Programa inicial sobre slicer de emails\n",
    "#Gustavo Zacarias Cervera, feito em 17-09-2020\n",
    "#=================================================\n",
    "\n",
    "def slicer(email):\n",
    "    name = email.split(\"@\")[0]\n",
    "    domain = email.split(\"@\")[1]\n",
    "    return name, domain\n",
    "\n",
    "print(\"Bem-Vindo ao Slicer de emails!!!\")\n",
    "email = input(\"Por favor, digite o email a ser dividido: \")\n",
    "\n",
    "print(\"\\n\")\n",
    "print(\"O nome vinculado ao email eh: \\t\\t{}\".format(slicer(email)[0]))\n",
    "print(\"O dominio vinculado ao email eh: \\t{}\".format(slicer(email)[1]))"
   ]
  },
  {
   "cell_type": "code",
   "execution_count": 14,
   "metadata": {},
   "outputs": [
    {
     "name": "stdout",
     "output_type": "stream",
     "text": [
      "Por favor, digite o email para ser repartido: gustavo@gmail.com\n",
      "gustavo\n",
      "gmail.com\n"
     ]
    }
   ],
   "source": [
    "email = input(\"Por favor, digite o email para ser repartido: \")\n",
    "\n",
    "name = lambda email: email.split(\"@\")[0]\n",
    "domain = lambda email: email.split(\"@\")[1]\n",
    "print(name(email))\n",
    "print(domain(email))"
   ]
  },
  {
   "cell_type": "code",
   "execution_count": null,
   "metadata": {},
   "outputs": [],
   "source": []
  }
 ],
 "metadata": {
  "kernelspec": {
   "display_name": "Python 3",
   "language": "python",
   "name": "python3"
  },
  "language_info": {
   "codemirror_mode": {
    "name": "ipython",
    "version": 3
   },
   "file_extension": ".py",
   "mimetype": "text/x-python",
   "name": "python",
   "nbconvert_exporter": "python",
   "pygments_lexer": "ipython3",
   "version": "3.8.3"
  }
 },
 "nbformat": 4,
 "nbformat_minor": 4
}
