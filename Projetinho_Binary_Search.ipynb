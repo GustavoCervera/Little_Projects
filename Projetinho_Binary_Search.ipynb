{
 "cells": [
  {
   "cell_type": "code",
   "execution_count": 103,
   "metadata": {},
   "outputs": [],
   "source": [
    "import random\n",
    "import math"
   ]
  },
  {
   "cell_type": "code",
   "execution_count": 124,
   "metadata": {},
   "outputs": [
    {
     "name": "stdout",
     "output_type": "stream",
     "text": [
      "[17, 77, 73, 91, 6, 68, 36, 27, 63, 49, 20, 31, 3, 64, 34, 98, 70, 61, 78, 41, 22, 69, 0, 67, 35, 57, 55, 28, 94, 7, 93, 50, 74, 56, 13, 18, 62, 86, 79, 85, 5, 71, 14, 87, 10, 89, 75, 30, 1, 84, 29, 45, 47, 96, 59, 51, 72, 81, 26, 60, 54, 44, 37, 80, 97, 12, 8, 25, 53, 90, 16, 4, 2, 52, 95, 24, 11, 58, 88, 92, 46, 15, 48, 43, 23, 82, 39, 40, 99, 42, 38, 83, 32, 9, 33, 76, 21, 19, 66, 65]\n",
      "\n",
      "\n",
      "O numero a ser encontrado eh: 1\n",
      "\n",
      "\n",
      "[17, 77, 73, 91, 6, 68, 36, 27, 63, 49, 20, 31, 3, 64, 34, 98, 70, 61, 78, 41, 22, 69, 0, 67, 35, 57, 55, 28, 94, 7, 93, 50, 74, 56, 13, 18, 62, 86, 79, 85, 5, 71, 14, 87, 10, 89, 75, 30, 1, 84]\n",
      "\n",
      "\n",
      "[57, 55, 28, 94, 7, 93, 50, 74, 56, 13, 18, 62, 86, 79, 85, 5, 71, 14, 87, 10, 89, 75, 30, 1, 84]\n",
      "\n",
      "\n",
      "[79, 85, 5, 71, 14, 87, 10, 89, 75, 30, 1, 84]\n",
      "\n",
      "\n",
      "[10, 89, 75, 30, 1, 84]\n",
      "\n",
      "\n",
      "[30, 1, 84]\n",
      "\n",
      "\n",
      "[30, 1]\n",
      "\n",
      "\n",
      "[1]\n",
      "\n",
      "\n",
      "Beleza, o algoritmo encontrou o numero [1]\n"
     ]
    }
   ],
   "source": [
    "#=================================================\n",
    "#Programa inicial sobre algoritmo de busca\n",
    "#Gustavo Zacarias Cervera, feito em 17-09-2020\n",
    "#=================================================\n",
    "\n",
    "#Gerando uma lista de 100 numeros aleatorios\n",
    "random_list = random.sample(range(0,100), 100)\n",
    "print(random_list)\n",
    "#Gerando um numero aleatorio\n",
    "number_to_find = random.randint(0,100)\n",
    "#Printando o numero a ser encontrado na lista\n",
    "print(\"\\n\\nO numero a ser encontrado eh: {}\".format(number_to_find))\n",
    "#Dividindo a lista de numeros aleatorios em duas\n",
    "#e checando se o valor desejado esta em uma dessas metades.\n",
    "#Caso estiver, o algoritmo repete o processo ate sobrar\n",
    "#somente o numero desejado\n",
    "half = 100\n",
    "while half > 1:\n",
    "    half = math.ceil(len(random_list)/2)\n",
    "    first_half = random_list[:half]\n",
    "    second_half = random_list[half:]\n",
    "    if number_to_find in first_half:\n",
    "        random_list = first_half\n",
    "    elif number_to_find in second_half:\n",
    "        random_list = second_half\n",
    "    else:\n",
    "        print(\"O numero nao pertencia\")\n",
    "        half -= 99\n",
    "    print(\"\\n\")\n",
    "    print(random_list)\n",
    "\n",
    "print(\"\\n\")\n",
    "print(\"Beleza, o algoritmo encontrou o numero {}\".format(random_list))    "
   ]
  },
  {
   "cell_type": "code",
   "execution_count": null,
   "metadata": {},
   "outputs": [],
   "source": []
  }
 ],
 "metadata": {
  "kernelspec": {
   "display_name": "Python 3",
   "language": "python",
   "name": "python3"
  },
  "language_info": {
   "codemirror_mode": {
    "name": "ipython",
    "version": 3
   },
   "file_extension": ".py",
   "mimetype": "text/x-python",
   "name": "python",
   "nbconvert_exporter": "python",
   "pygments_lexer": "ipython3",
   "version": "3.8.3"
  }
 },
 "nbformat": 4,
 "nbformat_minor": 4
}
