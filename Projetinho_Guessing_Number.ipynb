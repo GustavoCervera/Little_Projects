{
 "cells": [
  {
   "cell_type": "code",
   "execution_count": 2,
   "metadata": {},
   "outputs": [],
   "source": [
    "import random\n",
    "import time"
   ]
  },
  {
   "cell_type": "code",
   "execution_count": 4,
   "metadata": {},
   "outputs": [
    {
     "name": "stdout",
     "output_type": "stream",
     "text": [
      "Voce deseja jogar agora? (Y or N) \ty\n",
      "\n",
      " \n",
      "Gerando o numero aleatorio de 1 a 100...\n",
      "Numero gerado.\n",
      "\n",
      " \n",
      "\n",
      "Agora tente adivinhar qual foi esse numero...50\n",
      "\n",
      "O valor correto eh maior do que o digitado...\n",
      "\n",
      "Agora tente adivinhar qual foi esse numero...75\n",
      "\n",
      "O valor correto eh menor do que o digitado...\n",
      "\n",
      "Agora tente adivinhar qual foi esse numero...65\n",
      "\n",
      "O valor correto eh maior do que o digitado...\n",
      "\n",
      "Agora tente adivinhar qual foi esse numero...70\n",
      "\n",
      "O valor correto eh maior do que o digitado...\n",
      "\n",
      "Agora tente adivinhar qual foi esse numero...72\n",
      "\n",
      "\n",
      "==========================================================================================\n",
      "==========================================================================================\n",
      "\t\tPARABENS, VOCE ACERTOU O VALOR GERADO AUTOMATICAMENTE!!\n",
      "\t\tE o seu numero de tentativas foi de: 4\n",
      "==========================================================================================\n",
      "==========================================================================================\n",
      "Voce deseja jogar agora? (Y or N) \tn\n",
      "\n",
      "Obrigado!! Nos vemos em uma próxima!!\n"
     ]
    }
   ],
   "source": [
    "tentativas = 0\n",
    "while True:\n",
    "    ans = input(\"Voce deseja jogar agora? (Y or N) \\t\")\n",
    "    if ans in [\"Y\", \"y\"]:\n",
    "        print(\"\\n \")\n",
    "        print(\"Gerando o numero aleatorio de 1 a 100...\")\n",
    "        number = random.randrange(1,100)\n",
    "        time.sleep(2)\n",
    "        print(\"Numero gerado.\")\n",
    "        time.sleep(1)\n",
    "        print(\"\\n \")\n",
    "        while True:\n",
    "            guess = int(input(\"\\nAgora tente adivinhar qual foi esse numero...\"))\n",
    "            if guess == number:\n",
    "                print(\"\\n\")\n",
    "                print(\"=\"*90)\n",
    "                print(\"=\"*90)\n",
    "                print(\"\\t\\tPARABENS, VOCE ACERTOU O VALOR GERADO AUTOMATICAMENTE!!\")\n",
    "                print(\"\\t\\tE o seu numero de tentativas foi de: {}\".format(tentativas))\n",
    "                print(\"=\"*90)\n",
    "                print(\"=\"*90)\n",
    "                break\n",
    "            elif guess > number:\n",
    "                print(\"\\nO valor correto eh menor do que o digitado...\")\n",
    "                tentativas += 1\n",
    "                continue\n",
    "            else:\n",
    "                print(\"\\nO valor correto eh maior do que o digitado...\")\n",
    "                tentativas +=1\n",
    "                continue\n",
    "    elif ans in [\"N\", \"n\"]:\n",
    "        print(\"\\nObrigado!! Nos vemos em uma próxima!!\")\n",
    "        break\n",
    "    else:\n",
    "        print(\"\\nEntrada inválida, por favor insira um valor correto (Y ou N)\")\n",
    "        continue"
   ]
  },
  {
   "cell_type": "markdown",
   "metadata": {},
   "source": [
    "##### "
   ]
  }
 ],
 "metadata": {
  "kernelspec": {
   "display_name": "Python 3",
   "language": "python",
   "name": "python3"
  },
  "language_info": {
   "codemirror_mode": {
    "name": "ipython",
    "version": 3
   },
   "file_extension": ".py",
   "mimetype": "text/x-python",
   "name": "python",
   "nbconvert_exporter": "python",
   "pygments_lexer": "ipython3",
   "version": "3.8.3"
  }
 },
 "nbformat": 4,
 "nbformat_minor": 4
}
