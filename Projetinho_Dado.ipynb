{
 "cells": [
  {
   "cell_type": "code",
   "execution_count": 14,
   "metadata": {},
   "outputs": [],
   "source": [
    "import random"
   ]
  },
  {
   "cell_type": "code",
   "execution_count": 38,
   "metadata": {},
   "outputs": [
    {
     "name": "stdout",
     "output_type": "stream",
     "text": [
      "Voce deseja jogar o dado agora? (Y or N)y\n",
      "\n",
      " \n",
      "O numero mostrado na face superior do dado foi: 3\n",
      "\n",
      " \n",
      "Voce gostaria de jogar o jogo novamente? (Y or N)y\n",
      "Voce deseja jogar o dado agora? (Y or N)y\n",
      "\n",
      " \n",
      "O numero mostrado na face superior do dado foi: 2\n",
      "\n",
      " \n",
      "Voce gostaria de jogar o jogo novamente? (Y or N)y\n",
      "Voce deseja jogar o dado agora? (Y or N)y\n",
      "\n",
      " \n",
      "O numero mostrado na face superior do dado foi: 1\n",
      "\n",
      " \n",
      "Voce gostaria de jogar o jogo novamente? (Y or N)y\n",
      "Voce deseja jogar o dado agora? (Y or N)y\n",
      "\n",
      " \n",
      "O numero mostrado na face superior do dado foi: 3\n",
      "\n",
      " \n",
      "Voce gostaria de jogar o jogo novamente? (Y or N)y\n",
      "Voce deseja jogar o dado agora? (Y or N)y\n",
      "\n",
      " \n",
      "O numero mostrado na face superior do dado foi: 5\n",
      "\n",
      " \n",
      "Voce gostaria de jogar o jogo novamente? (Y or N)y\n",
      "Voce deseja jogar o dado agora? (Y or N)y\n",
      "\n",
      " \n",
      "O numero mostrado na face superior do dado foi: 1\n",
      "\n",
      " \n",
      "Voce gostaria de jogar o jogo novamente? (Y or N)n\n",
      "Obrigado por jogar!\n"
     ]
    }
   ],
   "source": [
    "#=================================================\n",
    "#Programa inicial sobre interface de jogo de dados\n",
    "#Gustavo Zacarias Cervera, feito em 15-09-2020\n",
    "#=================================================\n",
    "\n",
    "while True:\n",
    "    ans = input(\"Voce deseja jogar o dado agora? (Y or N)\")\n",
    "    if ans in [\"Y\", \"y\"]:\n",
    "        print(\"\\n \")\n",
    "        print(\"O numero mostrado na face superior do dado foi: {}\".format(random.randrange(1,6)))\n",
    "        print(\"\\n \")\n",
    "        ctn = input(\"Voce gostaria de jogar o jogo novamente? (Y or N)\")\n",
    "        if ctn in [\"Y\", \"y\"]:\n",
    "            continue\n",
    "        elif ctn in [\"N\", \"n\"]:\n",
    "            print(\"Obrigado por jogar!\")\n",
    "            break\n",
    "        else:\n",
    "            print(\"Entrada inválida, por favor insira um valor correto (Y ou N)\")\n",
    "            continue\n",
    "    elif ans in [\"N\", \"n\"]:\n",
    "        print(\"Obrigado!! Nos vemos em uma próxima!!\")\n",
    "        break\n",
    "    else:\n",
    "        print(\"Entrada inválida, por favor insira um valor correto (Y ou N)\")\n",
    "        continue"
   ]
  }
 ],
 "metadata": {
  "kernelspec": {
   "display_name": "Python 3",
   "language": "python",
   "name": "python3"
  },
  "language_info": {
   "codemirror_mode": {
    "name": "ipython",
    "version": 3
   },
   "file_extension": ".py",
   "mimetype": "text/x-python",
   "name": "python",
   "nbconvert_exporter": "python",
   "pygments_lexer": "ipython3",
   "version": "3.8.3"
  }
 },
 "nbformat": 4,
 "nbformat_minor": 4
}
